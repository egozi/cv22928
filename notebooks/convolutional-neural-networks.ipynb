{
 "cells": [
  {
   "cell_type": "code",
   "execution_count": 29,
   "id": "6130e33b-0312-4227-9a08-ae050312f9d8",
   "metadata": {},
   "outputs": [],
   "source": [
    "import torch\n",
    "import torchvision\n",
    "import torchvision.transforms as transforms\n",
    "import matplotlib.pylab as plt\n",
    "\n",
    "%matplotlib inline"
   ]
  },
  {
   "cell_type": "markdown",
   "id": "e6fc0b1a-92fa-4f18-abb6-fb26d6d50c4e",
   "metadata": {},
   "source": [
    "working with tensors - https://pytormch.org/tutorials/beginner/basics/tensorqs_tutorial.html"
   ]
  },
  {
   "cell_type": "code",
   "execution_count": 9,
   "id": "b1a18446-9591-4f69-910c-39cf3c253394",
   "metadata": {},
   "outputs": [],
   "source": [
    "# getting the dataset"
   ]
  },
  {
   "cell_type": "code",
   "execution_count": 13,
   "id": "5ebd7535-3f6c-4455-9b70-78b83a23b20a",
   "metadata": {},
   "outputs": [
    {
     "name": "stdout",
     "output_type": "stream",
     "text": [
      "Downloading http://fashion-mnist.s3-website.eu-central-1.amazonaws.com/train-images-idx3-ubyte.gz\n",
      "Downloading http://fashion-mnist.s3-website.eu-central-1.amazonaws.com/train-images-idx3-ubyte.gz to ./data/FashionMNIST/raw/train-images-idx3-ubyte.gz\n"
     ]
    },
    {
     "name": "stderr",
     "output_type": "stream",
     "text": [
      "100.0%\n"
     ]
    },
    {
     "name": "stdout",
     "output_type": "stream",
     "text": [
      "Extracting ./data/FashionMNIST/raw/train-images-idx3-ubyte.gz to ./data/FashionMNIST/raw\n",
      "\n",
      "Downloading http://fashion-mnist.s3-website.eu-central-1.amazonaws.com/train-labels-idx1-ubyte.gz\n",
      "Downloading http://fashion-mnist.s3-website.eu-central-1.amazonaws.com/train-labels-idx1-ubyte.gz to ./data/FashionMNIST/raw/train-labels-idx1-ubyte.gz\n"
     ]
    },
    {
     "name": "stderr",
     "output_type": "stream",
     "text": [
      "100.0%\n"
     ]
    },
    {
     "name": "stdout",
     "output_type": "stream",
     "text": [
      "Extracting ./data/FashionMNIST/raw/train-labels-idx1-ubyte.gz to ./data/FashionMNIST/raw\n",
      "\n",
      "Downloading http://fashion-mnist.s3-website.eu-central-1.amazonaws.com/t10k-images-idx3-ubyte.gz\n",
      "Downloading http://fashion-mnist.s3-website.eu-central-1.amazonaws.com/t10k-images-idx3-ubyte.gz to ./data/FashionMNIST/raw/t10k-images-idx3-ubyte.gz\n"
     ]
    },
    {
     "name": "stderr",
     "output_type": "stream",
     "text": [
      "100.0%\n"
     ]
    },
    {
     "name": "stdout",
     "output_type": "stream",
     "text": [
      "Extracting ./data/FashionMNIST/raw/t10k-images-idx3-ubyte.gz to ./data/FashionMNIST/raw\n",
      "\n",
      "Downloading http://fashion-mnist.s3-website.eu-central-1.amazonaws.com/t10k-labels-idx1-ubyte.gz\n",
      "Downloading http://fashion-mnist.s3-website.eu-central-1.amazonaws.com/t10k-labels-idx1-ubyte.gz to ./data/FashionMNIST/raw/t10k-labels-idx1-ubyte.gz\n"
     ]
    },
    {
     "name": "stderr",
     "output_type": "stream",
     "text": [
      "100.0%"
     ]
    },
    {
     "name": "stdout",
     "output_type": "stream",
     "text": [
      "Extracting ./data/FashionMNIST/raw/t10k-labels-idx1-ubyte.gz to ./data/FashionMNIST/raw\n",
      "\n"
     ]
    },
    {
     "name": "stderr",
     "output_type": "stream",
     "text": [
      "\n"
     ]
    }
   ],
   "source": [
    "# Create datasets for training & validation, download if necessary\n",
    "training_set = torchvision.datasets.FashionMNIST('./data', train=True, transform=transforms.ToTensor(), download=True)\n",
    "validation_set = torchvision.datasets.FashionMNIST('./data', train=False, transform=transforms.ToTensor(), download=True)"
   ]
  },
  {
   "cell_type": "code",
   "execution_count": 16,
   "id": "8e43610e-9970-4e32-ae2e-51ec77c73702",
   "metadata": {},
   "outputs": [],
   "source": [
    "img, label = training_set[0]"
   ]
  },
  {
   "cell_type": "code",
   "execution_count": 17,
   "id": "d526f601-5bab-431e-bf8c-73f900169cb1",
   "metadata": {},
   "outputs": [
    {
     "data": {
      "text/plain": [
       "torch.Size([1, 28, 28])"
      ]
     },
     "execution_count": 17,
     "metadata": {},
     "output_type": "execute_result"
    }
   ],
   "source": [
    "img.shape"
   ]
  },
  {
   "cell_type": "code",
   "execution_count": 35,
   "id": "d4903fc8-0f29-4e82-880f-d39d79bd339c",
   "metadata": {},
   "outputs": [
    {
     "data": {
      "text/plain": [
       "9"
      ]
     },
     "execution_count": 35,
     "metadata": {},
     "output_type": "execute_result"
    }
   ],
   "source": [
    "label"
   ]
  },
  {
   "cell_type": "code",
   "execution_count": 20,
   "id": "3d21d4f5-321f-4a08-8c10-e6e37e262274",
   "metadata": {},
   "outputs": [],
   "source": [
    "# show an image"
   ]
  },
  {
   "cell_type": "code",
   "execution_count": 36,
   "id": "f4429ad6-5bb0-4840-b0c1-816f278468d2",
   "metadata": {},
   "outputs": [
    {
     "data": {
      "text/plain": [
       "<matplotlib.image.AxesImage at 0x732c0a958ef0>"
      ]
     },
     "execution_count": 36,
     "metadata": {},
     "output_type": "execute_result"
    },
    {
     "data": {
      "image/png": "[encoded data removed]",
      "text/plain": [
       "<Figure size 640x480 with 1 Axes>"
      ]
     },
     "metadata": {},
     "output_type": "display_data"
    }
   ],
   "source": [
    "plt.figure()\n",
    "plt.title(training_set.classes[label])\n",
    "plt.imshow(img.squeeze(), cmap=\"gray\")"
   ]
  },
  {
   "cell_type": "markdown",
   "id": "60c38655-3dd9-4234-a889-6ecce1dcd6bc",
   "metadata": {},
   "source": [
    "## convolutional layer"
   ]
  },
  {
   "cell_type": "code",
   "execution_count": 58,
   "id": "43cd508d-27c0-4109-ae22-059d358b2997",
   "metadata": {},
   "outputs": [],
   "source": [
    "conv_layer = nn.Conv2d(in_channels=1, out_channels=1, kernel_size=3, padding=\"same\", bias=True)"
   ]
  },
  {
   "cell_type": "code",
   "execution_count": 59,
   "id": "e6c7dd0b-989e-49d0-ad34-c25162c8e43a",
   "metadata": {},
   "outputs": [
    {
     "data": {
      "text/plain": [
       "Conv2d(1, 1, kernel_size=(3, 3), stride=(1, 1), padding=same)"
      ]
     },
     "execution_count": 59,
     "metadata": {},
     "output_type": "execute_result"
    }
   ],
   "source": [
    "conv_layer"
   ]
  },
  {
   "cell_type": "code",
   "execution_count": 60,
   "id": "9112646c-c345-49d0-8291-8ce3ad46ad84",
   "metadata": {},
   "outputs": [
    {
     "name": "stdout",
     "output_type": "stream",
     "text": [
      "weight\n",
      "tensor([[[ 0.2848,  0.2756,  0.1534],\n",
      "         [-0.2168, -0.2112,  0.0999],\n",
      "         [ 0.1743,  0.0663, -0.1300]]])\n",
      "bias\n",
      "tensor(0.1167)\n"
     ]
    }
   ],
   "source": [
    "for name, param in conv_layer.named_parameters():\n",
    "    print(name)\n",
    "    print(param[0].detach())"
   ]
  },
  {
   "cell_type": "code",
   "execution_count": 61,
   "id": "88613fb1-00fa-4204-a8b6-bc249eb0e3bd",
   "metadata": {},
   "outputs": [
    {
     "data": {
      "text/plain": [
       "Parameter containing:\n",
       "tensor([[[[ 0.2848,  0.2756,  0.1534],\n",
       "          [-0.2168, -0.2112,  0.0999],\n",
       "          [ 0.1743,  0.0663, -0.1300]]]], requires_grad=True)"
      ]
     },
     "execution_count": 61,
     "metadata": {},
     "output_type": "execute_result"
    }
   ],
   "source": [
    "conv_layer.weight"
   ]
  },
  {
   "cell_type": "code",
   "execution_count": 62,
   "id": "35e3533e-5000-42ad-85e1-1f50090a0569",
   "metadata": {},
   "outputs": [
    {
     "data": {
      "text/plain": [
       "Parameter containing:\n",
       "tensor([0.1167], requires_grad=True)"
      ]
     },
     "execution_count": 62,
     "metadata": {},
     "output_type": "execute_result"
    }
   ],
   "source": [
    "conv_layer.bias"
   ]
  },
  {
   "cell_type": "code",
   "execution_count": 38,
   "id": "5af2ec95-8f63-44a8-ac45-60c53d3af4c3",
   "metadata": {},
   "outputs": [
    {
     "data": {
      "text/plain": [
       "OrderedDict([('weight',\n",
       "              tensor([[[[ 0.0071,  0.3243,  0.0457],\n",
       "                        [-0.1384, -0.0075,  0.1410],\n",
       "                        [-0.3149, -0.0239, -0.2038]]]]))])"
      ]
     },
     "execution_count": 38,
     "metadata": {},
     "output_type": "execute_result"
    }
   ],
   "source": [
    "conv_layer.state_dict()"
   ]
  },
  {
   "cell_type": "code",
   "execution_count": 2,
   "id": "a95ff024-4f56-416f-8a9c-40c27c0abe47",
   "metadata": {},
   "outputs": [
    {
     "ename": "AttributeError",
     "evalue": "module 'torchvision.transforms.functional' has no attribute 'decode_png'",
     "output_type": "error",
     "traceback": [
      "\u001b[0;31m---------------------------------------------------------------------------\u001b[0m",
      "\u001b[0;31mAttributeError\u001b[0m                            Traceback (most recent call last)",
      "Cell \u001b[0;32mIn[2], line 7\u001b[0m\n\u001b[1;32m      4\u001b[0m \u001b[38;5;28;01mfrom\u001b[39;00m \u001b[38;5;21;01mmatplotlib\u001b[39;00m \u001b[38;5;28;01mimport\u001b[39;00m pyplot \u001b[38;5;28;01mas\u001b[39;00m plt\n\u001b[1;32m      6\u001b[0m \u001b[38;5;66;03m# Load grayscale cat image\u001b[39;00m\n\u001b[0;32m----> 7\u001b[0m cat \u001b[38;5;241m=\u001b[39m TF\u001b[38;5;241m.\u001b[39mto_tensor(TF\u001b[38;5;241m.\u001b[39mrgb_to_grayscale(\u001b[43mTF\u001b[49m\u001b[38;5;241;43m.\u001b[39;49m\u001b[43mdecode_png\u001b[49m(\u001b[38;5;124m'\u001b[39m\u001b[38;5;124mcat.png\u001b[39m\u001b[38;5;124m'\u001b[39m)))\u001b[38;5;241m.\u001b[39munsqueeze(\u001b[38;5;241m0\u001b[39m)\u001b[38;5;241m.\u001b[39munsqueeze(\u001b[38;5;241m0\u001b[39m)\n\u001b[1;32m      9\u001b[0m \u001b[38;5;66;03m# Define a convolutional layer\u001b[39;00m\n\u001b[1;32m     10\u001b[0m conv_layer \u001b[38;5;241m=\u001b[39m nn\u001b[38;5;241m.\u001b[39mConv2d(in_channels\u001b[38;5;241m=\u001b[39m\u001b[38;5;241m1\u001b[39m, out_channels\u001b[38;5;241m=\u001b[39m\u001b[38;5;241m1\u001b[39m, kernel_size\u001b[38;5;241m=\u001b[39m\u001b[38;5;241m3\u001b[39m, padding\u001b[38;5;241m=\u001b[39m\u001b[38;5;241m1\u001b[39m, bias\u001b[38;5;241m=\u001b[39m\u001b[38;5;28;01mFalse\u001b[39;00m)\n",
      "\u001b[0;31mAttributeError\u001b[0m: module 'torchvision.transforms.functional' has no attribute 'decode_png'"
     ]
    }
   ],
   "source": [
    "import torch\n",
    "import torch.nn as nn\n",
    "import torchvision.transforms.functional as TF\n",
    "from matplotlib import pyplot as plt\n",
    "\n",
    "# Load grayscale cat image\n",
    "cat = TF.to_tensor(TF.rgb_to_grayscale(TF.decode_png('cat.png'))).unsqueeze(0).unsqueeze(0)\n",
    "\n",
    "# Define a convolutional layer\n",
    "conv_layer = nn.Conv2d(in_channels=1, out_channels=1, kernel_size=3, padding=1, bias=False)\n",
    "\n",
    "# Initialize the weights of the convolutional kernel\n",
    "conv_layer.state_dict()['weight'][0][0] = torch.tensor([[0., 1., 0.], \n",
    "                                                         [1., -4., 1.],\n",
    "                                                         [0., 1., 0.]])\n",
    "\n",
    "# Perform convolution\n",
    "edges = conv_layer(cat)\n",
    "\n",
    "# Visualize input and output\n",
    "plt.subplot(1,2,1)\n",
    "plt.imshow(cat[0,0], cmap='gray')\n",
    "plt.title('Original')\n",
    "\n",
    "plt.subplot(1,2,2)\n",
    "plt.imshow(edges[0,0], cmap='gray')\n",
    "plt.title('Edges')\n",
    "plt.show()"
   ]
  },
  {
   "cell_type": "code",
   "execution_count": null,
   "id": "9eb19a28-1f82-49eb-bfc5-a403683707b0",
   "metadata": {},
   "outputs": [],
   "source": []
  }
 ],
 "metadata": {
  "kernelspec": {
   "display_name": "Python 3 (ipykernel)",
   "language": "python",
   "name": "python3"
  },
  "language_info": {
   "codemirror_mode": {
    "name": "ipython",
    "version": 3
   },
   "file_extension": ".py",
   "mimetype": "text/x-python",
   "name": "python",
   "nbconvert_exporter": "python",
   "pygments_lexer": "ipython3",
   "version": "3.12.3"
  }
 },
 "nbformat": 4,
 "nbformat_minor": 5
}
